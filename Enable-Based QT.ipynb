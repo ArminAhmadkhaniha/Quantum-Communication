{
 "cells": [
  {
   "cell_type": "code",
   "execution_count": 1,
   "id": "d50a7290",
   "metadata": {},
   "outputs": [
    {
     "name": "stdout",
     "output_type": "stream",
     "text": [
      "done!\n"
     ]
    }
   ],
   "source": [
    "import numpy as np\n",
    "from numpy import pi,cos,sin\n",
    "from qiskit import QuantumCircuit, QuantumRegister, ClassicalRegister\n",
    "from qiskit import Aer, transpile\n",
    "from qiskit.visualization import plot_histogram\n",
    "from qiskit.extensions import Initialize\n",
    "print('done!')"
   ]
  },
  {
   "cell_type": "code",
   "execution_count": 2,
   "id": "2e5cf9be",
   "metadata": {},
   "outputs": [],
   "source": [
    "def bellState(circ, a, b):\n",
    "    circ.h(a) \n",
    "    circ.cx(a,b)\n",
    "    return circ\n",
    "       \n",
    "def x_measurement(circ, qubit, cbit):\n",
    "    circ.h(qubit)\n",
    "    circ.measure(qubit, cbit)\n",
    "    return circ"
   ]
  },
  {
   "cell_type": "code",
   "execution_count": 3,
   "id": "47c92563",
   "metadata": {},
   "outputs": [],
   "source": [
    "def DQG(qc,q_c0,q_c1,q_t,q_altr0,q_altr1,c_altr0,c_altr1):\n",
    "    qc.reset(q_altr0)\n",
    "    qc.reset(q_altr1)\n",
    "    bellState(qc,q_altr0,q_altr1)\n",
    "    qc.ccx(q_c0,q_c1,q_altr0)\n",
    "    qc.measure(q_altr0,c_altr0)\n",
    "    qc.x(q_altr1).c_if(c_altr0,1)\n",
    "    qc.cx(q_altr1,q_t)\n",
    "    x_measurement(qc,q_altr1,c_altr1)\n",
    "    qc.cz(q_c0,q_c1).c_if(c_altr1,1)\n",
    "    return qc"
   ]
  },
  {
   "cell_type": "code",
   "execution_count": 4,
   "id": "e37d55b9",
   "metadata": {},
   "outputs": [
    {
     "data": {
      "text/plain": [
       "<qiskit.circuit.instructionset.InstructionSet at 0x1dba3eb30a0>"
      ]
     },
     "execution_count": 4,
     "metadata": {},
     "output_type": "execute_result"
    }
   ],
   "source": [
    "q = QuantumRegister(10, name=\"q\") \n",
    "qw = QuantumRegister(2, name=\"qw\")\n",
    "    \n",
    "M_alice = ClassicalRegister(2, name=\"m_a\") \n",
    "M_bob = ClassicalRegister(2, name=\"m_b\")\n",
    "M_C = ClassicalRegister(2, name=\"m_c\")\n",
    "M_w = ClassicalRegister(2, name=\"m_w\")\n",
    "    \n",
    "qc = QuantumCircuit(q,qw,M_alice,M_bob,M_w,M_C)\n",
    "\n",
    "# Alice to bob teleportation (one is able to tune the enable qubit for each side to change channel's direction)\n",
    "    #Step1: Alice's enable qubit is |1> and Bob's is |0>\n",
    "initial_state_A1 = [0,1]\n",
    "initial_state_B1 = [1,0]              \n",
    "qc.initialize(initial_state_A1, [q[0]])\n",
    "qc.initialize(initial_state_B1, [q[9]])\n",
    "    #Alice's initial state THTH |0>\n",
    "qc.h([q[1]])\n",
    "qc.t([q[1]])\n",
    "qc.h([q[1]])\n",
    "qc.t([q[1]])\n",
    "    #BOB's initial state THTH |0>\n",
    "qc.h([q[8]])\n",
    "qc.t([q[8]])\n",
    "qc.h([q[8]])\n",
    "qc.t([q[8]])\n",
    "\n",
    "bellState(qc, q[4], q[5])\n",
    "qc.barrier()\n",
    "    \n",
    "    #Step2:\n",
    "qc.cx(q[1],q[4])\n",
    "qc.cx(q[8],q[5])\n",
    "qc.h(q[1])\n",
    "qc.h(q[8])\n",
    "qc.barrier()\n",
    "qc = DQG(qc,q[0],q[4],q[3],qw[0],qw[1],M_w[0],M_w[1])\n",
    "qc.barrier()\n",
    "qc = DQG(qc,q[9],q[5],q[6],qw[0],qw[1],M_w[0],M_w[1])\n",
    "qc.barrier()\n",
    "qc = DQG(qc,q[0],q[1],q[2],qw[0],qw[1],M_w[0],M_w[1])\n",
    "qc.barrier()\n",
    "qc = DQG(qc,q[9],q[8],q[7],qw[0],qw[1],M_w[0],M_w[1])\n",
    "qc.barrier()\n",
    "qc.h(q[1])\n",
    "qc.h(q[8])\n",
    "qc.cx(q[1],q[4])\n",
    "qc.cx(q[8],q[5])\n",
    "qc.barrier()\n",
    "    \n",
    "    #Step3:\n",
    "qc.measure(q[2],M_alice[0])\n",
    "qc.measure(q[3],M_alice[1])\n",
    "qc.x(q[5]).c_if(M_alice[1],1)\n",
    "qc.z(q[5]).c_if(M_alice[0],1)\n",
    "qc.barrier(q)\n",
    "    \n",
    "    #Step4:\n",
    "qc.measure(q[7],M_bob[0])\n",
    "qc.measure(q[6],M_bob[1])\n",
    "qc.x(q[4]).c_if(M_bob[1],1)\n",
    "qc.z(q[4]).c_if(M_bob[0],1)\n",
    "qc.barrier(q)\n",
    "    \n",
    "    \n",
    "qc.measure(q[4],M_C[0])\n",
    "qc.measure(q[5],M_C[1])\n",
    "\n",
    "#qc.draw('mpl')"
   ]
  },
  {
   "cell_type": "code",
   "execution_count": 5,
   "id": "952508ed",
   "metadata": {},
   "outputs": [],
   "source": [
    "simulator = Aer.get_backend('qasm_simulator')\n",
    "sim = transpile(qc, simulator)\n",
    "\n",
    " \n",
    "result = simulator.run(sim, shots=500).result()\n",
    "counts = result.get_counts(sim)\n"
   ]
  },
  {
   "cell_type": "code",
   "execution_count": 6,
   "id": "793c9ef2",
   "metadata": {},
   "outputs": [],
   "source": [
    "S = np.zeros([8])\n",
    "\n",
    "for state in counts:    \n",
    "    if (state[0]=='0')&(state[1]=='0'):\n",
    "        S[4] = counts[state]\n",
    "        S[0]=S[0]+counts[state]\n",
    "        S[2]=S[2]+counts[state]\n",
    "    if (state[0]=='0')&(state[1]=='1'):\n",
    "        S[5] = counts[state]\n",
    "        S[0]=S[0]+counts[state]\n",
    "        S[3]=S[3]+counts[state]\n",
    "    if (state[0]=='1')&(state[1]=='0'):\n",
    "        S[6] = counts[state]\n",
    "        S[1]=S[1]+counts[state]\n",
    "        S[2]=S[2]+counts[state]\n",
    "    if (state[0]=='1')&(state[1]=='1'):\n",
    "        S[7] = counts[state]\n",
    "        S[1]=S[1]+counts[state]\n",
    "        S[3]=S[3]+counts[state]\n",
    "        \n",
    "count_CAB = {'00':S[4],'01':S[5],'10':S[6],'11':S[7]}\n",
    "count_CB = {'0':S[0],'1':S[1]}\n",
    "count_CA = {'0':S[2],'1':S[3]}"
   ]
  },
  {
   "cell_type": "code",
   "execution_count": 7,
   "id": "30babc33",
   "metadata": {},
   "outputs": [
    {
     "data": {
      "image/png": "[encoded data removed]",
      "text/plain": [
       "<Figure size 504x360 with 1 Axes>"
      ]
     },
     "execution_count": 7,
     "metadata": {},
     "output_type": "execute_result"
    }
   ],
   "source": [
    "plot_histogram(count_CB)"
   ]
  },
  {
   "cell_type": "code",
   "execution_count": 8,
   "id": "cd128700",
   "metadata": {},
   "outputs": [
    {
     "data": {
      "image/png": "[encoded data removed]",
      "text/plain": [
       "<Figure size 504x360 with 1 Axes>"
      ]
     },
     "execution_count": 8,
     "metadata": {},
     "output_type": "execute_result"
    }
   ],
   "source": [
    "plot_histogram(count_CA)"
   ]
  },
  {
   "cell_type": "code",
   "execution_count": null,
   "id": "f70302e3",
   "metadata": {},
   "outputs": [],
   "source": []
  }
 ],
 "metadata": {
  "kernelspec": {
   "display_name": "Python 3",
   "language": "python",
   "name": "python3"
  },
  "language_info": {
   "codemirror_mode": {
    "name": "ipython",
    "version": 3
   },
   "file_extension": ".py",
   "mimetype": "text/x-python",
   "name": "python",
   "nbconvert_exporter": "python",
   "pygments_lexer": "ipython3",
   "version": "3.8.8"
  }
 },
 "nbformat": 4,
 "nbformat_minor": 5
}
